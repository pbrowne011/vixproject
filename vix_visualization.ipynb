{
 "cells": [
  {
   "cell_type": "code",
   "execution_count": null,
   "metadata": {
    "id": "FdPcFfk8Z02M"
   },
   "outputs": [],
   "source": [
    "!pip install yfinance\n",
    "!pip install numpy"
   ]
  },
  {
   "cell_type": "code",
   "execution_count": null,
   "metadata": {
    "id": "jfF1JtVGZxu-"
   },
   "outputs": [],
   "source": [
    "import pandas as pd\n",
    "import numpy as np\n",
    "import yfinance as yf\n",
    "import matplotlib.pyplot as plt"
   ]
  },
  {
   "cell_type": "code",
   "execution_count": null,
   "metadata": {
    "colab": {
     "base_uri": "https://localhost:8080/",
     "height": 472
    },
    "id": "vVoa61iIZxOB",
    "outputId": "51b6d53e-5c24-4be2-ef01-b776b715e644"
   },
   "outputs": [],
   "source": [
    "df = yf.download(['^VIX'], start='2018-01-01', end='2023-02-10')\n",
    "table = df\n",
    "table"
   ]
  },
  {
   "cell_type": "code",
   "execution_count": null,
   "metadata": {
    "colab": {
     "base_uri": "https://localhost:8080/",
     "height": 445
    },
    "id": "zY8I72v3Zt0A",
    "outputId": "5d859b08-4239-4bbf-fe6c-4e8c0c52e336"
   },
   "outputs": [],
   "source": [
    "plt.figure(figsize=(14, 7))\n",
    "c = table.columns.values[4]\n",
    "plt.plot(table.index, table[c], lw=3, alpha=0.8,label=c)\n",
    "plt.legend(loc='upper left', fontsize=12)\n",
    "plt.ylabel('price in $')"
   ]
  },
  {
   "cell_type": "code",
   "execution_count": null,
   "metadata": {
    "colab": {
     "base_uri": "https://localhost:8080/",
     "height": 445
    },
    "id": "pwKR8ZsEbRQl",
    "outputId": "b18f9776-d701-41d4-d109-7c6bb0f5cd39"
   },
   "outputs": [],
   "source": [
    "returns = table.pct_change()\n",
    "\n",
    "plt.figure(figsize=(14, 7))\n",
    "c = returns.columns.values[4]\n",
    "plt.plot(returns.index, returns[c], lw=2, alpha=0.8,label=c)\n",
    "plt.legend(loc='upper right', fontsize=12)\n",
    "plt.ylabel('daily returns')"
   ]
  }
 ],
 "metadata": {
  "colab": {
   "provenance": []
  },
  "kernelspec": {
   "display_name": "Python 3 (ipykernel)",
   "language": "python",
   "name": "python3"
  },
  "language_info": {
   "codemirror_mode": {
    "name": "ipython",
    "version": 3
   },
   "file_extension": ".py",
   "mimetype": "text/x-python",
   "name": "python",
   "nbconvert_exporter": "python",
   "pygments_lexer": "ipython3",
   "version": "3.11.0"
  }
 },
 "nbformat": 4,
 "nbformat_minor": 1
}
