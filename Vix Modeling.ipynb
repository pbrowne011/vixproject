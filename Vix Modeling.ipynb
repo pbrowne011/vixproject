{
 "cells": [
  {
   "cell_type": "markdown",
   "id": "510611f9",
   "metadata": {},
   "source": [
    "This notebook can be for different models for modeling the VIX"
   ]
  },
  {
   "cell_type": "code",
   "execution_count": null,
   "id": "1aad7212",
   "metadata": {},
   "outputs": [],
   "source": [
    "Examples:\n",
    "    * ARIMA\n",
    "    * ARCH/GARCH\n",
    "    * Brownian Motion/GRAPH"
   ]
  }
 ],
 "metadata": {
  "kernelspec": {
   "display_name": "Python 3 (ipykernel)",
   "language": "python",
   "name": "python3"
  },
  "language_info": {
   "codemirror_mode": {
    "name": "ipython",
    "version": 3
   },
   "file_extension": ".py",
   "mimetype": "text/x-python",
   "name": "python",
   "nbconvert_exporter": "python",
   "pygments_lexer": "ipython3",
   "version": "3.8.5"
  }
 },
 "nbformat": 4,
 "nbformat_minor": 5
}
